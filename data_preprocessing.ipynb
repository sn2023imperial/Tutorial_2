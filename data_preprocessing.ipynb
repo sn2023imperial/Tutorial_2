{
 "cells": [
  {
   "cell_type": "code",
   "execution_count": 2,
   "id": "b602598c-d23b-4a05-9aab-50c595c62b1e",
   "metadata": {},
   "outputs": [
    {
     "name": "stderr",
     "output_type": "stream",
     "text": [
      "/Users/sach/Desktop/Markdown_Book/notebook_tutorials/venv/lib/python3.11/site-packages/enformer_pytorch/modeling_enformer.py:29: FutureWarning: You are using `torch.load` with `weights_only=False` (the current default value), which uses the default pickle module implicitly. It is possible to construct malicious pickle data which will execute arbitrary code during unpickling (See https://github.com/pytorch/pytorch/blob/main/SECURITY.md#untrusted-models for more details). In a future release, the default value for `weights_only` will be flipped to `True`. This limits the functions that could be executed during unpickling. Arbitrary objects will no longer be allowed to be loaded via this mode unless they are explicitly allowlisted by the user via `torch.serialization.add_safe_globals`. We recommend you start setting `weights_only=True` for any use case where you don't have full control of the loaded file. Please open an issue on GitHub for any issues related to this experimental feature.\n",
      "  TF_GAMMAS = torch.load(str(DIR / \"precomputed\"/ \"tf_gammas.pt\"))\n",
      "Matplotlib is building the font cache; this may take a moment.\n"
     ]
    }
   ],
   "source": [
    "import numpy as np\n",
    "import pandas as pd\n",
    "import os\n",
    "import grelu.data.preprocess\n",
    "import grelu.data.dataset\n",
    "import grelu.lightning\n",
    "import grelu.visualize\n",
    "import pickle\n",
    "import pyBigWig"
   ]
  },
  {
   "cell_type": "code",
   "execution_count": null,
   "id": "34a2bd16-3024-4d65-a9cd-8d3628a998fc",
   "metadata": {},
   "outputs": [],
   "source": []
  },
  {
   "cell_type": "code",
   "execution_count": 3,
   "id": "1e3718ac-8db8-480e-9188-35501b9fa504",
   "metadata": {},
   "outputs": [],
   "source": [
    "# Model constants\n",
    "INPUT_WINDOW = 2048\n",
    "OUTPUT_WINDOW = 512\n",
    "PRED_RES = 512\n",
    "buffer_bp = (INPUT_WINDOW-OUTPUT_WINDOW)//2\n",
    "val_chroms = \"chr3\"\n",
    "test_chroms = \"chr2\"\n",
    "genome = \"hg38\"\n",
    "bw_file =  'ENCFF601VTB.bigWig' #p-value #'ENCFF359FNY.bigWig' #fold change\n",
    "\n",
    "\n",
    "# Model will predict on chromsomes 1\n",
    "CHROMOSOMES =np.array(['chr1', 'chr2', 'chr3', 'chr4', 'chr5'])\n",
    "\n",
    "\n",
    "# hg38 chrom lengths\n",
    "# Human Genome Assembly GRCh38.p14\n",
    "CHROM_LEN =np.array([248_956_422, 242_193_529, 198_295_559, 190_214_555, 181_538_259, 170_805_979, \n",
    "                     159_345_973, 145_138_636, 138_394_717, 133_797_422, 135_086_622, 133_275_309,\n",
    "                     114_364_328, 107_043_718, 101_991_189, 90_338_345, 83_257_441, 80_373_285,\n",
    "                     58_617_616, 64_444_167, 46_709_983, 50_818_468])\n",
    "\n",
    "\n",
    "# URLs of the BigWig files\n",
    "urls = [\n",
    "    'ENCFF601VTB.bigWig' # p-values\n",
    "    #'ENCFF359FNY.bigWig' # Fold change\n",
    "]"
   ]
  },
  {
   "cell_type": "code",
   "execution_count": null,
   "id": "2d757a42-ed01-444a-b17b-04aba5ce61ac",
   "metadata": {},
   "outputs": [],
   "source": [
    "def load_y(data: dict,#pybigwig object\n",
    "           labels: list,\n",
    "           selected_chromosome: chr,\n",
    "           window_start: int,\n",
    "           window_size: int,\n",
    "           target_bp:int,\n",
    "           pred_res: int):\n",
    "    \n",
    "    \"\"\"Function to load target y values from bigwigs\"\"\"\n",
    "    #get buffer amount between input and output - centre output\n",
    "    buffer_bp = (window_size-target_bp)//2\n",
    "    target_length = target_bp//pred_res    \n",
    "    # Output labels only for selected cells\n",
    "    all_y = np.zeros(shape=(target_length, len(labels)))\n",
    "    for i, label in enumerate(labels):\n",
    "        #data at pred_res bp lvl already but loaded in at 1bp lvl\n",
    "        #need to avg back up!\n",
    "        # Data is arcsinh transformed to deal help with different seq depths\n",
    "        all_y[:, i] = np.arcsinh(np.mean( \n",
    "            np.nan_to_num(\n",
    "                data[label].values(\n",
    "                    selected_chromosome,\n",
    "                    window_start+buffer_bp,\n",
    "                    window_start+buffer_bp+target_bp,\n",
    "                    numpy=True\n",
    "                )\n",
    "            ).reshape(-1, pred_res),#averaging at desired pred_res  \n",
    "            axis=1))\n",
    "    return all_y"
   ]
  },
  {
   "cell_type": "code",
   "execution_count": null,
   "id": "7d4f94a8-5e7b-4354-922d-7de802a72b5e",
   "metadata": {},
   "outputs": [],
   "source": [
    "# Main 1\n",
    "\n",
    "# Create a dict of all bigwigs\n",
    "bw_dat = {}\n",
    "for url in urls:\n",
    "    bw = pyBigWig.open(url)\n",
    "    if bw is not None:\n",
    "        bw_dat[url] = bw\n",
    "\n",
    "\n",
    "\n",
    "# Setting up the dna bins and dataframe\n",
    "for ind,chrom_i in enumerate(CHROMOSOMES):\n",
    "    bins = np.arange(buffer_bp,CHROM_LEN[ind]-buffer_bp,INPUT_WINDOW)\n",
    "    #store in pd df\n",
    "    if(ind==0):\n",
    "        dna_bins = pd.DataFrame({\n",
    "            'chrom': chrom_i,\n",
    "            'pred_strt': bins,\n",
    "            'pred_end': bins+OUTPUT_WINDOW,\n",
    "            'start': bins-buffer_bp,\n",
    "            'end': bins+OUTPUT_WINDOW+buffer_bp\n",
    "        })\n",
    "    else:\n",
    "        tmp = pd.DataFrame({\n",
    "            'chrom': chrom_i,\n",
    "            'pred_strt': bins,\n",
    "            'pred_end': bins+OUTPUT_WINDOW,\n",
    "            'start': bins-buffer_bp,\n",
    "            'end': bins+OUTPUT_WINDOW+buffer_bp\n",
    "        })\n",
    "        dna_bins = pd.concat([dna_bins, tmp])\n",
    "dna_bins = dna_bins.reset_index()\n",
    "print(dna_bins)"
   ]
  },
  {
   "cell_type": "code",
   "execution_count": null,
   "id": "07a7d1df-4dba-479f-9c9f-a3e2556913ff",
   "metadata": {},
   "outputs": [],
   "source": [
    "# Main 2 - Attaching coverage values to dataframe and saving as a csv.gz file\n",
    "\n",
    "\n",
    "# For each bin, load the data and find the max coverage\n",
    "cov = []\n",
    "for index, row in dna_bins.iterrows():\n",
    "    if(index%20_000==0):\n",
    "        print(row['chrom'] +\": \"+str(row['pred_strt']))  \n",
    "    dna_strt = row['start'] \n",
    "    the_chr = row['chrom']\n",
    "    all_y = load_y(data=bw_dat,\n",
    "                    labels=urls,\n",
    "                    selected_chromosome=the_chr,\n",
    "                    window_start=dna_strt,\n",
    "                    window_size = INPUT_WINDOW,\n",
    "                    target_bp = OUTPUT_WINDOW,\n",
    "                    pred_res = PRED_RES)\n",
    "    #save max coverage\n",
    "    cov.append(np.max(all_y))\n",
    "\n",
    "#add cov to data\n",
    "dna_bins['cov'] = cov\n",
    "\n",
    "\n",
    "\n",
    "# Save the data as a compressed csv file\n",
    "\n",
    "dna_bins.to_csv('data/512bpResolution_p_values.csv.gz',\n",
    "                index=False,compression='gzip')\n",
    "\n",
    "\n",
    "print(dna_bins)"
   ]
  },
  {
   "cell_type": "code",
   "execution_count": null,
   "id": "3a1c18e8-993b-4b8b-84ff-2250fbbb02a6",
   "metadata": {},
   "outputs": [],
   "source": []
  },
  {
   "cell_type": "code",
   "execution_count": 43,
   "id": "bca0d189-2ffd-4c9f-8a42-c024d0c434a9",
   "metadata": {},
   "outputs": [
    {
     "name": "stdout",
     "output_type": "stream",
     "text": [
      "137474 training/validation/test positions.\n"
     ]
    },
    {
     "data": {
      "text/plain": [
       "'\\nchrom2_data = dna_bins[dna_bins[\\'chrom\\'] == \\'chr2\\'] \\nchrom3_data = dna_bins[dna_bins[\\'chrom\\'] == \\'chr3\\']\\nother_chromosomes_data = dna_bins[(dna_bins[\\'chrom\\'] != \\'chr2\\') & (dna_bins[\\'chrom\\'] != \\'chr3\\')]\\n\\n# Apply the threshold to the other chromosomes\\nfiltered_other_chromosomes_data = other_chromosomes_data[other_chromosomes_data[\\'cov\\'] > threshold]\\n\\n# Combine the filtered data with the chromosome 2 data (no threshold applied)\\nfilt_dna_bins = pd.concat([filtered_other_chromosomes_data, chrom2_data, chrom3_data])\\n\\n# Reset index and print the number of positions\\nfilt_dna_bins = filt_dna_bins.reset_index(drop=True)\\nprint(f\"{filt_dna_bins.shape[0]} training/validation/test positions.\")\\n'"
      ]
     },
     "execution_count": 43,
     "metadata": {},
     "output_type": "execute_result"
    }
   ],
   "source": [
    "# Load our DNA bins filled with our target values\n",
    "dna_bins = pd.read_csv('data/512bpResolution_p_values.csv.gz')\n",
    "\n",
    "# Set a threshold to filter our data\n",
    "threshold = 2\n",
    "threshold = np.arcsinh(threshold) # The threshold has to undergo an arcsinh transformation as well\n",
    "\n",
    "\n",
    "# balanced data sets (add negative regions later)\n",
    "\n",
    "filt_dna_bins = dna_bins.loc[dna_bins['cov']>threshold].reset_index(drop=True) # Apply the threshold to all chromosomes\n",
    "print(f\"{filt_dna_bins.shape[0]} training/validation/test positions.\")\n",
    "\n",
    "\n",
    "\n",
    "# real distribution test set\n",
    "'''\n",
    "# Separate data for chromosome 2 from all other chromosomes\n",
    "chrom2_data = dna_bins[dna_bins['chrom'] == 'chr2'] \n",
    "other_chromosomes_data = dna_bins[(dna_bins['chrom'] != 'chr2')]\n",
    "\n",
    "# Apply the threshold to the other chromosomes\n",
    "filtered_other_chromosomes_data = other_chromosomes_data[other_chromosomes_data['cov'] > threshold]\n",
    "\n",
    "# Combine the filtered data with the chromosome 2 data (no threshold applied)\n",
    "filt_dna_bins = pd.concat([filtered_other_chromosomes_data, chrom2_data])\n",
    "\n",
    "# Reset index and print the number of positions\n",
    "filt_dna_bins = filt_dna_bins.reset_index(drop=True)\n",
    "print(f\"{filt_dna_bins.shape[0]} training/validation/test positions.\")\n",
    "'''\n",
    "\n",
    "\n",
    "\n",
    "# real distribution validation and test set\n",
    "'''\n",
    "chrom2_data = dna_bins[dna_bins['chrom'] == 'chr2'] \n",
    "chrom3_data = dna_bins[dna_bins['chrom'] == 'chr3']\n",
    "other_chromosomes_data = dna_bins[(dna_bins['chrom'] != 'chr2') & (dna_bins['chrom'] != 'chr3')]\n",
    "\n",
    "# Apply the threshold to the other chromosomes\n",
    "filtered_other_chromosomes_data = other_chromosomes_data[other_chromosomes_data['cov'] > threshold]\n",
    "\n",
    "# Combine the filtered data with the chromosome 2 data (no threshold applied)\n",
    "filt_dna_bins = pd.concat([filtered_other_chromosomes_data, chrom2_data, chrom3_data])\n",
    "\n",
    "# Reset index and print the number of positions\n",
    "filt_dna_bins = filt_dna_bins.reset_index(drop=True)\n",
    "print(f\"{filt_dna_bins.shape[0]} training/validation/test positions.\")\n",
    "'''"
   ]
  },
  {
   "cell_type": "code",
   "execution_count": null,
   "id": "fc71c210-cb83-4c3d-860c-a8aa09f11056",
   "metadata": {},
   "outputs": [],
   "source": []
  },
  {
   "cell_type": "code",
   "execution_count": 44,
   "id": "89a6d4e7-ffe1-4687-a629-1da22cf48f79",
   "metadata": {},
   "outputs": [
    {
     "name": "stdout",
     "output_type": "stream",
     "text": [
      "       chrom      start        end\n",
      "0       chr1     833536     835584\n",
      "1       chr1     841728     843776\n",
      "2       chr1     847872     849920\n",
      "3       chr1     854016     856064\n",
      "4       chr1     905216     907264\n",
      "...      ...        ...        ...\n",
      "137469  chr2  242182144  242184192\n",
      "137470  chr2  242184192  242186240\n",
      "137471  chr2  242186240  242188288\n",
      "137472  chr2  242188288  242190336\n",
      "137473  chr2  242190336  242192384\n",
      "\n",
      "[137474 rows x 3 columns]\n"
     ]
    }
   ],
   "source": [
    "# Keep only the 'chrom', 'start', and 'end' columns\n",
    "peaks = filt_dna_bins[['chrom', 'start', 'end']]\n",
    "print(peaks)"
   ]
  },
  {
   "cell_type": "code",
   "execution_count": null,
   "id": "0b813fae-ef5e-4c47-b8ec-7a639a8ed9bd",
   "metadata": {},
   "outputs": [],
   "source": []
  },
  {
   "cell_type": "code",
   "execution_count": 6,
   "id": "39deae1b-c175-4815-97dd-1be746124a86",
   "metadata": {},
   "outputs": [
    {
     "name": "stdout",
     "output_type": "stream",
     "text": [
      "Keeping 25088 intervals\n"
     ]
    }
   ],
   "source": [
    "peaks = grelu.data.preprocess.filter_blacklist(\n",
    "        peaks,\n",
    "        genome=genome,\n",
    "        window=50 # Remove peaks if they are within 50 bp of a blacklist region\n",
    "    )"
   ]
  },
  {
   "cell_type": "code",
   "execution_count": 7,
   "id": "5a8fc05c-b650-4e73-99fd-fb0dad8d919a",
   "metadata": {},
   "outputs": [
    {
     "name": "stdout",
     "output_type": "stream",
     "text": [
      "Calculating GC content genomewide and saving to gc_hg38_2048.bw\n"
     ]
    },
    {
     "name": "stderr",
     "output_type": "stream",
     "text": [
      "Calculating: 100%|████████████████████████████████| 5/5 [01:39<00:00, 19.88s/it]\n",
      "Writing: 100%|████████████████████████████████████| 5/5 [02:13<00:00, 26.64s/it]\n"
     ]
    },
    {
     "name": "stdout",
     "output_type": "stream",
     "text": [
      "Extracting matching intervals\n"
     ]
    },
    {
     "name": "stderr",
     "output_type": "stream",
     "text": [
      "100%|██████████████████████████████████| 25088/25088 [00:01<00:00, 17781.45it/s]\n",
      "Choosing loci...: 100%|███████████████████████████| 5/5 [01:05<00:00, 13.01s/it]\n",
      "100%|██████████████████████████████████| 25088/25088 [00:01<00:00, 14479.53it/s]"
     ]
    },
    {
     "name": "stdout",
     "output_type": "stream",
     "text": [
      "GC paired t-test: 0.00546, 0.846\n",
      "Filtering blacklist\n",
      "Keeping 24414 intervals\n"
     ]
    },
    {
     "name": "stderr",
     "output_type": "stream",
     "text": [
      "\n"
     ]
    },
    {
     "data": {
      "text/html": [
       "<div>\n",
       "<style scoped>\n",
       "    .dataframe tbody tr th:only-of-type {\n",
       "        vertical-align: middle;\n",
       "    }\n",
       "\n",
       "    .dataframe tbody tr th {\n",
       "        vertical-align: top;\n",
       "    }\n",
       "\n",
       "    .dataframe thead th {\n",
       "        text-align: right;\n",
       "    }\n",
       "</style>\n",
       "<table border=\"1\" class=\"dataframe\">\n",
       "  <thead>\n",
       "    <tr style=\"text-align: right;\">\n",
       "      <th></th>\n",
       "      <th>chrom</th>\n",
       "      <th>start</th>\n",
       "      <th>end</th>\n",
       "    </tr>\n",
       "  </thead>\n",
       "  <tbody>\n",
       "    <tr>\n",
       "      <th>0</th>\n",
       "      <td>chr1</td>\n",
       "      <td>203672420</td>\n",
       "      <td>203674468</td>\n",
       "    </tr>\n",
       "    <tr>\n",
       "      <th>1</th>\n",
       "      <td>chr1</td>\n",
       "      <td>37605617</td>\n",
       "      <td>37607665</td>\n",
       "    </tr>\n",
       "    <tr>\n",
       "      <th>2</th>\n",
       "      <td>chr1</td>\n",
       "      <td>67218724</td>\n",
       "      <td>67220772</td>\n",
       "    </tr>\n",
       "  </tbody>\n",
       "</table>\n",
       "</div>"
      ],
      "text/plain": [
       "  chrom      start        end\n",
       "0  chr1  203672420  203674468\n",
       "1  chr1   37605617   37607665\n",
       "2  chr1   67218724   67220772"
      ]
     },
     "execution_count": 7,
     "metadata": {},
     "output_type": "execute_result"
    }
   ],
   "source": [
    "negatives = grelu.data.preprocess.get_gc_matched_intervals(\n",
    "    peaks,\n",
    "    binwidth=0.02, # resolution of measuring GC content\n",
    "    genome=genome,\n",
    "    chroms=['chr1', 'chr2', 'chr3', 'chr4', 'chr5'], # balanced train/val/test\n",
    "    #chroms=['chr1', 'chr3', 'chr4', 'chr5'], # real distribution test set\n",
    "    #chroms=['chr1', 'chr4', 'chr5'], # real distribution validation and test set\n",
    "    blacklist=genome, # negative regions overlapping the blacklist will be dropped\n",
    "    seed=0,\n",
    "    )\n",
    "negatives.head(3)"
   ]
  },
  {
   "cell_type": "code",
   "execution_count": 8,
   "id": "8004efa5-0291-4784-88eb-9e1b781ee49c",
   "metadata": {},
   "outputs": [
    {
     "data": {
      "image/png": "[encoded data removed]"
     },
     "metadata": {
      "image/png": {
       "height": 300,
       "width": 400
      }
     },
     "output_type": "display_data"
    }
   ],
   "source": [
    "import grelu.visualize\n",
    "grelu.visualize.plot_gc_match(\n",
    "        positives=peaks, negatives=negatives, binwidth=0.02, genome=\"hg38\", figsize=(4, 3)\n",
    "    )"
   ]
  },
  {
   "cell_type": "code",
   "execution_count": 9,
   "id": "e172dbf5-fbc0-4d30-87dd-eaef5ddc09de",
   "metadata": {},
   "outputs": [
    {
     "data": {
      "text/plain": [
       "49502"
      ]
     },
     "execution_count": 9,
     "metadata": {},
     "output_type": "execute_result"
    }
   ],
   "source": [
    "regions = pd.concat([peaks, negatives])\n",
    "len(regions)"
   ]
  },
  {
   "cell_type": "code",
   "execution_count": 10,
   "id": "79a9841b-bfdb-4ad2-8deb-cd4ed647a623",
   "metadata": {},
   "outputs": [
    {
     "name": "stdout",
     "output_type": "stream",
     "text": [
      "      chrom      start        end\n",
      "0      chr1     833536     835584\n",
      "1      chr1     841728     843776\n",
      "2      chr1     847872     849920\n",
      "3      chr1     854016     856064\n",
      "4      chr1     905216     907264\n",
      "...     ...        ...        ...\n",
      "25083  chr3   61829290   61831338\n",
      "25084  chr1  196762810  196764858\n",
      "25085  chr2   26666219   26668267\n",
      "25086  chr4   13360703   13362751\n",
      "25087  chr1   38080150   38082198\n",
      "\n",
      "[49502 rows x 3 columns]\n"
     ]
    }
   ],
   "source": [
    "print(regions)"
   ]
  },
  {
   "cell_type": "code",
   "execution_count": 34,
   "id": "47d9e052-e0a1-4832-a4c2-ea9a69554d51",
   "metadata": {},
   "outputs": [
    {
     "name": "stdout",
     "output_type": "stream",
     "text": [
      "Training set size: 12000\n",
      "Validation set size: 1500\n",
      "Test set size: 1500\n"
     ]
    }
   ],
   "source": [
    "from sklearn.utils import resample\n",
    "\n",
    "train_size = 12000\n",
    "valid_size = 1500\n",
    "test_size = 1500\n",
    "\n",
    "# 1. Filter the data by chromosome\n",
    "chr2_data = regions[regions['chrom'] == test_chroms]\n",
    "chr3_data = regions[regions['chrom'] == val_chroms]\n",
    "train_data = regions[~regions['chrom'].isin([test_chroms, val_chroms])]\n",
    "\n",
    "# 2. Downsample chr2 and chr3 data if necessary\n",
    "if len(chr2_data) > test_size:\n",
    "    chr2_data = resample(chr2_data, n_samples=test_size, random_state=1)\n",
    "\n",
    "if len(chr3_data) > valid_size:\n",
    "    chr3_data = resample(chr3_data, n_samples=valid_size, random_state=1)\n",
    "\n",
    "# 3. Downsample the training data to 12,000 if necessary\n",
    "if len(train_data) > train_size:\n",
    "    train_data = resample(train_data, n_samples=train_size, random_state=1)\n",
    "\n",
    "# 4. Combine the final training, validation, and test sets\n",
    "train = train_data\n",
    "val = chr3_data\n",
    "test = chr2_data\n",
    "\n",
    "# 5. Print the sizes of each split to verify\n",
    "print(\"Training set size:\", len(train))\n",
    "print(\"Validation set size:\", len(val))\n",
    "print(\"Test set size:\", len(test))"
   ]
  },
  {
   "cell_type": "code",
   "execution_count": null,
   "id": "6afa39d6-909c-4e7c-ab47-a907792d3ec2",
   "metadata": {},
   "outputs": [],
   "source": [
    "# Not Splitting Sets By Chromosome\n",
    "\n",
    "'''\n",
    "from sklearn.utils import shuffle\n",
    "\n",
    "# Shuffle the entire dataset\n",
    "regions = shuffle(regions, random_state=1)\n",
    "\n",
    "# Randomly select 12,000 samples for the training set\n",
    "train = regions.sample(n=12000, random_state=1)\n",
    "remainder = regions.drop(train.index)\n",
    "\n",
    "# Randomly select 1,500 samples for the validation set from the remainder\n",
    "val = remainder.sample(n=1500, random_state=1)\n",
    "\n",
    "# The remaining 1,500 samples in the remainder will be the test set\n",
    "test = remainder.drop(val.index).sample(n=1500, random_state=1)\n",
    "\n",
    "# Print the sizes of each split to verify\n",
    "print(\"Training set size:\", len(train))\n",
    "print(\"Validation set size:\", len(val))\n",
    "print(\"Test set size:\", len(test))\n",
    "'''"
   ]
  },
  {
   "cell_type": "code",
   "execution_count": 35,
   "id": "4f56352a-00c5-4ddf-a879-0eb6b54fb70a",
   "metadata": {},
   "outputs": [],
   "source": [
    "import grelu.data.dataset\n",
    "    \n",
    "train_ds = grelu.data.dataset.BigWigSeqDataset(\n",
    "    intervals = train,\n",
    "    bw_files=[bw_file],\n",
    "    label_len=PRED_RES,\n",
    "    label_aggfunc=\"sum\",\n",
    "    #rc=True, # reverse complement\n",
    "    #max_seq_shift=2, # Shift the sequence\n",
    "    #augment_mode=\"random\",\n",
    "    seed=0,\n",
    "    genome=genome,\n",
    "    label_transform_func=np.arcsinh\n",
    ")"
   ]
  },
  {
   "cell_type": "code",
   "execution_count": 36,
   "id": "ade404e4-0350-4be9-9bc3-3e3fe538bce0",
   "metadata": {},
   "outputs": [
    {
     "data": {
      "text/plain": [
       "(12000, 1500, 1500)"
      ]
     },
     "execution_count": 36,
     "metadata": {},
     "output_type": "execute_result"
    }
   ],
   "source": [
    "val_ds = grelu.data.dataset.BigWigSeqDataset(\n",
    "    intervals = val,\n",
    "    bw_files=[bw_file],\n",
    "    label_len=PRED_RES,\n",
    "    label_aggfunc=\"sum\", \n",
    "    genome=genome,\n",
    "    label_transform_func=np.arcsinh\n",
    ")\n",
    "\n",
    "test_ds = grelu.data.dataset.BigWigSeqDataset(\n",
    "    intervals = test,\n",
    "    bw_files=[bw_file],\n",
    "    label_len=PRED_RES,\n",
    "    label_aggfunc=\"sum\",\n",
    "    genome=genome,\n",
    "    label_transform_func=arcsinh_transform\n",
    ")\n",
    "\n",
    "len(train_ds), len(val_ds), len(test_ds)"
   ]
  },
  {
   "cell_type": "code",
   "execution_count": null,
   "id": "02a184fc-eb07-4605-b85c-40238550ca10",
   "metadata": {},
   "outputs": [],
   "source": []
  },
  {
   "cell_type": "code",
   "execution_count": 37,
   "id": "2171292e-7187-40bd-8d9c-f1b3c929e88f",
   "metadata": {},
   "outputs": [
    {
     "name": "stdout",
     "output_type": "stream",
     "text": [
      "% of peaks in train_ds : 52.0%\n",
      "% of actual peaks in training chroms (1, 4, 5): 4.9%\n"
     ]
    }
   ],
   "source": [
    "nottestval_data = dna_bins[(dna_bins['chrom'] != 'chr2') & (dna_bins['chrom'] != 'chr3')]\n",
    "\n",
    "# Ensuring the distribution of val_ds is similar to chromosome 3s distribution.\n",
    "labels = np.array(train_ds.get_labels()).reshape(-1)\n",
    "thresholded_labels = np.where(np.sinh(labels) //PRED_RES>= threshold, 1, 0)\n",
    "\n",
    "num_ones = np.sum(thresholded_labels)\n",
    "print(f\"% of peaks in train_ds : {num_ones*100/(len(train_ds)):.1f}%\")\n",
    "\n",
    "# Apply the threshold to chrom2_data\n",
    "thresh_label = np.where(nottestval_data['cov'] >= threshold, 1, 0)\n",
    "\n",
    "# Calculate the number of peaks in chrom2_data\n",
    "num_peaks_nottestval = np.sum(thresh_label)\n",
    "percentage_peaks_nottestval = num_peaks_nottestval * 100 / len(nottestval_data)\n",
    "print(f\"% of actual peaks in training chroms (1, 4, 5): {percentage_peaks_nottestval:.1f}%\")"
   ]
  },
  {
   "cell_type": "code",
   "execution_count": 45,
   "id": "205b438d-19da-4cf2-bf56-483ea3f94d9b",
   "metadata": {},
   "outputs": [
    {
     "name": "stdout",
     "output_type": "stream",
     "text": [
      "% of peaks in val_ds : 50.4%\n",
      "% of actual peaks in val chrom (3): 4.6%\n"
     ]
    }
   ],
   "source": [
    "chrom3_data = dna_bins[dna_bins['chrom'] == 'chr3']\n",
    "\n",
    "# Ensuring the distribution of val_ds is similar to chromosome 3s distribution.\n",
    "labels = np.array(val_ds.get_labels()).reshape(-1)\n",
    "thresholded_labels = np.where(labels >= 7.298636830788198, 1, 0)\n",
    "\n",
    "num_ones = np.sum(thresholded_labels)\n",
    "print(f\"% of peaks in val_ds : {num_ones*100/(len(val_ds)):.1f}%\")\n",
    "\n",
    "# Apply the threshold to chrom3_data\n",
    "thresh_label = np.where(chrom3_data['cov'] >= threshold, 1, 0)\n",
    "\n",
    "# Calculate the number of peaks in chrom3_data\n",
    "num_peaks_chrom3 = np.sum(thresh_label)\n",
    "percentage_peaks_chrom3 = num_peaks_chrom3 * 100 / len(chrom3_data)\n",
    "print(f\"% of actual peaks in val chrom (3): {percentage_peaks_chrom3:.1f}%\")"
   ]
  },
  {
   "cell_type": "code",
   "execution_count": 39,
   "id": "c8d53c12-bf80-44e8-a875-ccd8cd58b53a",
   "metadata": {},
   "outputs": [
    {
     "name": "stdout",
     "output_type": "stream",
     "text": [
      "% of peaks in test_ds : 50.3%\n",
      "% of actual peaks in test chrom (2): 5.1%\n"
     ]
    }
   ],
   "source": [
    "chrom2_data = dna_bins[dna_bins['chrom'] == 'chr2']\n",
    "\n",
    "# Ensuring the distribution of test_ds is similar to chromosome 2s distribution.\n",
    "labels = np.array(test_ds.get_labels()).reshape(-1)\n",
    "thresholded_labels = np.where(np.sinh(labels) //PRED_RES>= threshold, 1, 0)\n",
    "\n",
    "num_ones = np.sum(thresholded_labels)\n",
    "print(f\"% of peaks in test_ds : {num_ones*100/(len(test_ds)):.1f}%\")\n",
    "\n",
    "# Apply the threshold to chrom2_data\n",
    "thresh_label = np.where(chrom2_data['cov'] >= threshold, 1, 0)\n",
    "\n",
    "# Calculate the number of peaks in chrom2_data\n",
    "num_peaks_chrom2 = np.sum(thresh_label)\n",
    "percentage_peaks_chrom2 = num_peaks_chrom2 * 100 / len(chrom2_data)\n",
    "print(f\"% of actual peaks in test chrom (2): {percentage_peaks_chrom2:.1f}%\")"
   ]
  },
  {
   "cell_type": "code",
   "execution_count": null,
   "id": "eb2679f6-9e16-4d33-bc7c-b3b927870647",
   "metadata": {},
   "outputs": [],
   "source": []
  },
  {
   "cell_type": "code",
   "execution_count": 42,
   "id": "779bfe4a-3855-4c7e-bc82-c2f19f7096c2",
   "metadata": {},
   "outputs": [
    {
     "ename": "AttributeError",
     "evalue": "'BigWigSeqDataset' object has no attribute 'to_csv'",
     "output_type": "error",
     "traceback": [
      "\u001b[0;31m---------------------------------------------------------------------------\u001b[0m",
      "\u001b[0;31mAttributeError\u001b[0m                            Traceback (most recent call last)",
      "Cell \u001b[0;32mIn[42], line 1\u001b[0m\n\u001b[0;32m----> 1\u001b[0m \u001b[43mtrain_ds\u001b[49m\u001b[38;5;241;43m.\u001b[39;49m\u001b[43mto_csv\u001b[49m(\u001b[38;5;124m'\u001b[39m\u001b[38;5;124mtrain_data.csv\u001b[39m\u001b[38;5;124m'\u001b[39m, index\u001b[38;5;241m=\u001b[39m\u001b[38;5;28;01mFalse\u001b[39;00m)\n\u001b[1;32m      2\u001b[0m val_ds\u001b[38;5;241m.\u001b[39mto_csv(\u001b[38;5;124m'\u001b[39m\u001b[38;5;124mval_data.csv\u001b[39m\u001b[38;5;124m'\u001b[39m, index\u001b[38;5;241m=\u001b[39m\u001b[38;5;28;01mFalse\u001b[39;00m)\n\u001b[1;32m      3\u001b[0m test_ds\u001b[38;5;241m.\u001b[39mto_csv(\u001b[38;5;124m'\u001b[39m\u001b[38;5;124mtest_data.csv\u001b[39m\u001b[38;5;124m'\u001b[39m, index\u001b[38;5;241m=\u001b[39m\u001b[38;5;28;01mFalse\u001b[39;00m)\n",
      "\u001b[0;31mAttributeError\u001b[0m: 'BigWigSeqDataset' object has no attribute 'to_csv'"
     ]
    }
   ],
   "source": [
    "with open('train_ds.pkl', 'wb') as f:\n",
    "    pickle.dump(train_ds, f)\n",
    "\n",
    "\n",
    "with open('val_ds.pkl', 'wb') as f:\n",
    "    pickle.dump(val_ds, f)\n",
    "\n",
    "\n",
    "with open('test_ds.pkl', 'wb') as f:\n",
    "    pickle.dump(test_ds, f)\n"
   ]
  },
  {
   "cell_type": "code",
   "execution_count": 40,
   "id": "f82f69c0-1631-4be2-8bd5-aa0e333088ae",
   "metadata": {},
   "outputs": [
    {
     "name": "stdout",
     "output_type": "stream",
     "text": [
      "(tensor([[0., 0., 0.,  ..., 0., 0., 0.],\n",
      "        [0., 0., 0.,  ..., 0., 0., 0.],\n",
      "        [1., 1., 0.,  ..., 1., 1., 1.],\n",
      "        [0., 0., 1.,  ..., 0., 0., 0.]]), tensor([[9.3379]]))\n"
     ]
    }
   ],
   "source": [
    "print(train_ds[0])"
   ]
  },
  {
   "cell_type": "code",
   "execution_count": null,
   "id": "a5e564cf-bcf9-4bca-abf8-1d7b69740da7",
   "metadata": {},
   "outputs": [],
   "source": []
  },
  {
   "cell_type": "code",
   "execution_count": 28,
   "id": "ac0b98c8-cc97-404a-84cb-c98baa68efec",
   "metadata": {},
   "outputs": [
    {
     "name": "stdout",
     "output_type": "stream",
     "text": [
      "(12000, 1, 1)\n",
      "(1500, 1, 1)\n",
      "(1500, 1, 1)\n"
     ]
    }
   ],
   "source": [
    "train_labels = np.array(train_ds.get_labels())\n",
    "val_labels = np.array(val_ds.get_labels())\n",
    "test_labels = np.array(test_ds.get_labels())\n",
    "print(train_labels.shape)\n",
    "print(val_labels.shape)\n",
    "print(test_labels.shape)"
   ]
  },
  {
   "cell_type": "code",
   "execution_count": 29,
   "id": "62e7c0d5-23fd-43d6-9d24-eaf9edcd0c52",
   "metadata": {},
   "outputs": [
    {
     "data": {
      "image/png": "[encoded data removed]",
      "text/plain": [
       "<Figure size 1000x600 with 1 Axes>"
      ]
     },
     "metadata": {},
     "output_type": "display_data"
    },
    {
     "data": {
      "image/png": "[encoded data removed]",
      "text/plain": [
       "<Figure size 1000x600 with 1 Axes>"
      ]
     },
     "metadata": {},
     "output_type": "display_data"
    },
    {
     "data": {
      "image/png": "[encoded data removed]",
      "text/plain": [
       "<Figure size 1000x600 with 1 Axes>"
      ]
     },
     "metadata": {},
     "output_type": "display_data"
    },
    {
     "name": "stdout",
     "output_type": "stream",
     "text": [
      "Statistics for Training Dataset:\n",
      "Mean: 6.57\n",
      "Median: 7.66\n",
      "Standard Deviation: 2.01\n",
      "Min: 0.52\n",
      "Max: 10.86\n",
      "\n",
      "Statistics for Validation Dataset:\n",
      "Mean: 6.45\n",
      "Median: 7.38\n",
      "Standard Deviation: 2.02\n",
      "Min: 0.90\n",
      "Max: 10.95\n",
      "\n",
      "Statistics for Test Dataset (Balanced):\n",
      "Mean: 6.55\n",
      "Median: 7.63\n",
      "Standard Deviation: 1.95\n",
      "Min: 0.68\n",
      "Max: 10.09\n",
      "\n"
     ]
    }
   ],
   "source": [
    "import matplotlib.pyplot as plt\n",
    "def plot_distribution(labels, title):\n",
    "    labels_flat = labels.flatten()  # Flatten the labels to 1D\n",
    "    plt.figure(figsize=(10, 6))\n",
    "    plt.hist(labels_flat, bins=50, color='skyblue', edgecolor='black')\n",
    "    plt.title(f'Distribution of {title}')\n",
    "    plt.xlabel('Target Value')\n",
    "    plt.ylabel('Frequency')\n",
    "    plt.show()\n",
    "\n",
    "# Plot distributions for each dataset\n",
    "plot_distribution(train_labels, 'Training Dataset')\n",
    "plot_distribution(val_labels, 'Validation Dataset')\n",
    "plot_distribution(test_labels, 'Test Dataset (Balanced)')\n",
    "\n",
    "# Print basic statistics\n",
    "def print_statistics(labels, title):\n",
    "    labels_flat = labels.flatten()  # Flatten the labels to 1D\n",
    "    print(f\"Statistics for {title}:\")\n",
    "    print(f\"Mean: {np.mean(labels_flat):.2f}\")\n",
    "    print(f\"Median: {np.median(labels_flat):.2f}\")\n",
    "    print(f\"Standard Deviation: {np.std(labels_flat):.2f}\")\n",
    "    print(f\"Min: {np.min(labels_flat):.2f}\")\n",
    "    print(f\"Max: {np.max(labels_flat):.2f}\\n\")\n",
    "\n",
    "# Print statistics for each dataset\n",
    "print_statistics(train_labels, 'Training Dataset')\n",
    "print_statistics(val_labels, 'Validation Dataset')\n",
    "print_statistics(test_labels, 'Test Dataset (Balanced)')\n"
   ]
  },
  {
   "cell_type": "code",
   "execution_count": null,
   "id": "1754df31-2b5c-4a1f-bbef-8b90fb941fcd",
   "metadata": {},
   "outputs": [],
   "source": []
  }
 ],
 "metadata": {
  "kernelspec": {
   "display_name": "Python 3 (ipykernel)",
   "language": "python",
   "name": "python3"
  },
  "language_info": {
   "codemirror_mode": {
    "name": "ipython",
    "version": 3
   },
   "file_extension": ".py",
   "mimetype": "text/x-python",
   "name": "python",
   "nbconvert_exporter": "python",
   "pygments_lexer": "ipython3",
   "version": "3.11.7"
  }
 },
 "nbformat": 4,
 "nbformat_minor": 5
}
